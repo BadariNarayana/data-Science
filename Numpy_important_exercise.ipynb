{
  "nbformat": 4,
  "nbformat_minor": 0,
  "metadata": {
    "colab": {
      "name": " Numpy important exercise.ipynb",
      "provenance": [],
      "include_colab_link": true
    },
    "kernelspec": {
      "name": "python3",
      "display_name": "Python 3"
    }
  },
  "cells": [
    {
      "cell_type": "markdown",
      "metadata": {
        "id": "view-in-github",
        "colab_type": "text"
      },
      "source": [
        "<a href=\"https://colab.research.google.com/github/BadariNarayana/data-Science/blob/main/Numpy_important_exercise.ipynb\" target=\"_parent\"><img src=\"https://colab.research.google.com/assets/colab-badge.svg\" alt=\"Open In Colab\"/></a>"
      ]
    },
    {
      "cell_type": "markdown",
      "metadata": {
        "id": "NG0hmjM_mDMa"
      },
      "source": [
        "1. Import numpy as np and see the version"
      ]
    },
    {
      "cell_type": "code",
      "metadata": {
        "colab": {
          "base_uri": "https://localhost:8080/"
        },
        "id": "_lAdHfewmBmB",
        "outputId": "b04f37ba-25e3-4522-960a-72bb13b56ba8"
      },
      "source": [
        "import numpy as np\n",
        "print(np.__version__)"
      ],
      "execution_count": null,
      "outputs": [
        {
          "output_type": "stream",
          "text": [
            "1.18.5\n"
          ],
          "name": "stdout"
        }
      ]
    },
    {
      "cell_type": "markdown",
      "metadata": {
        "id": "nkKIlicqmMjd"
      },
      "source": [
        "2. How to create a 1D array?"
      ]
    },
    {
      "cell_type": "code",
      "metadata": {
        "colab": {
          "base_uri": "https://localhost:8080/"
        },
        "id": "z-_dONZImL8e",
        "outputId": "d9ebb58b-16af-4c4f-cb41-ded38a51e856"
      },
      "source": [
        "arr = np.arange(10)\n",
        "arr"
      ],
      "execution_count": null,
      "outputs": [
        {
          "output_type": "execute_result",
          "data": {
            "text/plain": [
              "array([0, 1, 2, 3, 4, 5, 6, 7, 8, 9])"
            ]
          },
          "metadata": {
            "tags": []
          },
          "execution_count": 2
        }
      ]
    },
    {
      "cell_type": "markdown",
      "metadata": {
        "id": "zHcnZ-EAmdMt"
      },
      "source": [
        "3. How to create a boolean array?"
      ]
    },
    {
      "cell_type": "code",
      "metadata": {
        "colab": {
          "base_uri": "https://localhost:8080/"
        },
        "id": "v_yTkzGOmdxx",
        "outputId": "b6b53a5e-8f9c-4572-cf6c-a4f4c14f7146"
      },
      "source": [
        "np.full((3, 3), True, dtype=bool)"
      ],
      "execution_count": null,
      "outputs": [
        {
          "output_type": "execute_result",
          "data": {
            "text/plain": [
              "array([[ True,  True,  True],\n",
              "       [ True,  True,  True],\n",
              "       [ True,  True,  True]])"
            ]
          },
          "metadata": {
            "tags": []
          },
          "execution_count": 3
        }
      ]
    },
    {
      "cell_type": "markdown",
      "metadata": {
        "id": "uURCe9_2meQ-"
      },
      "source": [
        "4. How to extract items that satisfy a given condition from 1D array?"
      ]
    },
    {
      "cell_type": "code",
      "metadata": {
        "colab": {
          "base_uri": "https://localhost:8080/"
        },
        "id": "QYxyJbGbmejM",
        "outputId": "f0a0a491-bd83-4a7d-b64a-62b4b6307e61"
      },
      "source": [
        "arr = np.array([0, 1, 2, 3, 4, 5, 6, 7, 8, 9])\n",
        "arr[arr % 2 == 1]"
      ],
      "execution_count": null,
      "outputs": [
        {
          "output_type": "execute_result",
          "data": {
            "text/plain": [
              "array([1, 3, 5, 7, 9])"
            ]
          },
          "metadata": {
            "tags": []
          },
          "execution_count": 4
        }
      ]
    },
    {
      "cell_type": "markdown",
      "metadata": {
        "id": "dSAeE3ZDmezH"
      },
      "source": [
        "5. How to replace items that satisfy a condition with another value in numpy array?"
      ]
    },
    {
      "cell_type": "code",
      "metadata": {
        "colab": {
          "base_uri": "https://localhost:8080/"
        },
        "id": "Mc0d1LeWmfEX",
        "outputId": "dc13e1a9-e824-4df3-f096-bbed7dd21540"
      },
      "source": [
        "arr[arr % 2 == 1] = -1\n",
        "arr"
      ],
      "execution_count": null,
      "outputs": [
        {
          "output_type": "execute_result",
          "data": {
            "text/plain": [
              "array([ 0, -1,  2, -1,  4, -1,  6, -1,  8, -1])"
            ]
          },
          "metadata": {
            "tags": []
          },
          "execution_count": 5
        }
      ]
    },
    {
      "cell_type": "markdown",
      "metadata": {
        "id": "Y4WzcGO-mfT6"
      },
      "source": [
        "6. How to replace items that satisfy a condition without affecting the original array?"
      ]
    },
    {
      "cell_type": "code",
      "metadata": {
        "colab": {
          "base_uri": "https://localhost:8080/"
        },
        "id": "7N2ZTTw-mfkz",
        "outputId": "7c1d9bb0-055f-459b-c505-b4591588fa9d"
      },
      "source": [
        "arr = np.arange(10)\n",
        "print(arr)\n",
        "out = np.where(arr % 2 == 1, -1, arr)\n",
        "print(out)\n"
      ],
      "execution_count": null,
      "outputs": [
        {
          "output_type": "stream",
          "text": [
            "[0 1 2 3 4 5 6 7 8 9]\n",
            "[ 0 -1  2 -1  4 -1  6 -1  8 -1]\n"
          ],
          "name": "stdout"
        }
      ]
    },
    {
      "cell_type": "markdown",
      "metadata": {
        "id": "EeIOAUpLmf2J"
      },
      "source": [
        "7. How to reshape an array?"
      ]
    },
    {
      "cell_type": "code",
      "metadata": {
        "colab": {
          "base_uri": "https://localhost:8080/"
        },
        "id": "LcW-xuLvmgFz",
        "outputId": "dd77cb03-8477-4e25-de7a-2c90196999f0"
      },
      "source": [
        "arr = np.arange(10)\n",
        "arr.reshape(2, -1) "
      ],
      "execution_count": null,
      "outputs": [
        {
          "output_type": "execute_result",
          "data": {
            "text/plain": [
              "array([[0, 1, 2, 3, 4],\n",
              "       [5, 6, 7, 8, 9]])"
            ]
          },
          "metadata": {
            "tags": []
          },
          "execution_count": 8
        }
      ]
    },
    {
      "cell_type": "markdown",
      "metadata": {
        "id": "r6Rft02amgVS"
      },
      "source": [
        "8. How to stack two arrays vertically?"
      ]
    },
    {
      "cell_type": "code",
      "metadata": {
        "id": "sCUh6xPnmgkC"
      },
      "source": [
        "a = np.arange(10).reshape(2,-1)\n",
        "b = np.repeat(1, 10).reshape(2,-1)\n",
        "# Answers\n",
        "# Method 1:\n",
        "np.concatenate([a, b], axis=0)\n",
        "\n",
        "# Method 2:\n",
        "np.vstack([a, b])\n"
      ],
      "execution_count": null,
      "outputs": []
    },
    {
      "cell_type": "markdown",
      "metadata": {
        "id": "fs_IfnlZmgxq"
      },
      "source": [
        "9. How to stack two arrays horizontally?"
      ]
    },
    {
      "cell_type": "code",
      "metadata": {
        "id": "RF7_5LFumhAa"
      },
      "source": [
        "a = np.arange(10).reshape(2,-1)\n",
        "b = np.repeat(1, 10).reshape(2,-1)\n",
        "\n",
        "# Answers\n",
        "# Method 1:\n",
        "np.concatenate([a, b], axis=1)\n",
        "\n",
        "# Method 2:\n",
        "np.hstack([a, b])\n",
        "\n",
        "# Method 3:\n",
        "np.c_[a, b]"
      ],
      "execution_count": null,
      "outputs": []
    },
    {
      "cell_type": "markdown",
      "metadata": {
        "id": "GnqWuaxWmhO4"
      },
      "source": [
        "10. How to generate custom sequences in numpy without hardcoding?"
      ]
    },
    {
      "cell_type": "code",
      "metadata": {
        "colab": {
          "base_uri": "https://localhost:8080/"
        },
        "id": "i7vVckPFmhdZ",
        "outputId": "62600d44-c837-49df-b8ae-e56450751c06"
      },
      "source": [
        "a = np.array([1,2,3])\n",
        "np.r_[np.repeat(a, 3), np.tile(a, 3)]"
      ],
      "execution_count": null,
      "outputs": [
        {
          "output_type": "execute_result",
          "data": {
            "text/plain": [
              "array([1, 1, 1, 2, 2, 2, 3, 3, 3, 1, 2, 3, 1, 2, 3, 1, 2, 3])"
            ]
          },
          "metadata": {
            "tags": []
          },
          "execution_count": 10
        }
      ]
    },
    {
      "cell_type": "markdown",
      "metadata": {
        "id": "L16mQBHcmhr-"
      },
      "source": [
        "11. How to get the common items between two python numpy arrays?"
      ]
    },
    {
      "cell_type": "code",
      "metadata": {
        "colab": {
          "base_uri": "https://localhost:8080/"
        },
        "id": "0PQaOdwXmh6R",
        "outputId": "33a90c4f-d32b-4959-d660-2c9e8366a069"
      },
      "source": [
        "a = np.array([1,2,3,2,3,4,3,4,5,6])\n",
        "b = np.array([7,2,10,2,7,4,9,4,9,8])\n",
        "np.intersect1d(a,b)"
      ],
      "execution_count": null,
      "outputs": [
        {
          "output_type": "execute_result",
          "data": {
            "text/plain": [
              "array([2, 4])"
            ]
          },
          "metadata": {
            "tags": []
          },
          "execution_count": 11
        }
      ]
    },
    {
      "cell_type": "markdown",
      "metadata": {
        "id": "vgTkCgiYmiH1"
      },
      "source": [
        "12. How to remove from one array those items that exist in another?"
      ]
    },
    {
      "cell_type": "code",
      "metadata": {
        "colab": {
          "base_uri": "https://localhost:8080/"
        },
        "id": "ksXRyS31miVX",
        "outputId": "a78da054-b752-4b18-bc55-ae9a37d870d7"
      },
      "source": [
        "a = np.array([1,2,3,4,5])\n",
        "b = np.array([5,6,7,8,9])\n",
        "\n",
        "# From 'a' remove all of 'b'\n",
        "np.setdiff1d(a,b)"
      ],
      "execution_count": null,
      "outputs": [
        {
          "output_type": "execute_result",
          "data": {
            "text/plain": [
              "array([1, 2, 3, 4])"
            ]
          },
          "metadata": {
            "tags": []
          },
          "execution_count": 12
        }
      ]
    },
    {
      "cell_type": "markdown",
      "metadata": {
        "id": "Y15sBXrOmijS"
      },
      "source": [
        "13. How to get the positions where elements of two arrays match?"
      ]
    },
    {
      "cell_type": "code",
      "metadata": {
        "colab": {
          "base_uri": "https://localhost:8080/"
        },
        "id": "gyCb8OefmiyF",
        "outputId": "f64aa06d-294c-4be2-acbc-1fa2bc61a6f3"
      },
      "source": [
        "a = np.array([1,2,3,2,3,4,3,4,5,6])\n",
        "b = np.array([7,2,10,2,7,4,9,4,9,8])\n",
        "\n",
        "np.where(a == b)"
      ],
      "execution_count": null,
      "outputs": [
        {
          "output_type": "execute_result",
          "data": {
            "text/plain": [
              "(array([1, 3, 5, 7]),)"
            ]
          },
          "metadata": {
            "tags": []
          },
          "execution_count": 13
        }
      ]
    },
    {
      "cell_type": "markdown",
      "metadata": {
        "id": "JIA84W0Hmi_q"
      },
      "source": [
        "14. How to extract all numbers between a given range from a numpy array?"
      ]
    },
    {
      "cell_type": "code",
      "metadata": {
        "colab": {
          "base_uri": "https://localhost:8080/"
        },
        "id": "Dykxf7QbmjM_",
        "outputId": "cf837731-e518-4fdf-d9d9-18a4f62e4097"
      },
      "source": [
        "a = np.arange(15)\n",
        "\n",
        "# Method 1\n",
        "index = np.where((a >= 5) & (a <= 10))\n",
        "a[index]\n",
        "\n",
        "# Method 2:\n",
        "index = np.where(np.logical_and(a>=5, a<=10))\n",
        "a[index]\n",
        "#> (array([6, 9, 10]),)\n",
        "\n",
        "# Method 3: (thanks loganzk!)\n",
        "a[(a >= 5) & (a <= 10)]\n"
      ],
      "execution_count": null,
      "outputs": [
        {
          "output_type": "execute_result",
          "data": {
            "text/plain": [
              "array([ 5,  6,  7,  8,  9, 10])"
            ]
          },
          "metadata": {
            "tags": []
          },
          "execution_count": 14
        }
      ]
    },
    {
      "cell_type": "markdown",
      "metadata": {
        "id": "ZU4p2yoDmjaR"
      },
      "source": [
        "15. How to make a python function that handles scalars to work on numpy arrays?"
      ]
    },
    {
      "cell_type": "code",
      "metadata": {
        "colab": {
          "base_uri": "https://localhost:8080/"
        },
        "id": "JPAlaDBnmjnA",
        "outputId": "c6c55775-acf1-44e4-b814-c54ebbd50564"
      },
      "source": [
        "def maxx(x, y):\n",
        "    \"\"\"Get the maximum of two items\"\"\"\n",
        "    if x >= y:\n",
        "        return x\n",
        "    else:\n",
        "        return y\n",
        "\n",
        "pair_max = np.vectorize(maxx, otypes=[float])\n",
        "\n",
        "a = np.array([5, 7, 9, 8, 6, 4, 5])\n",
        "b = np.array([6, 3, 4, 8, 9, 7, 1])\n",
        "\n",
        "pair_max(a, b)"
      ],
      "execution_count": null,
      "outputs": [
        {
          "output_type": "execute_result",
          "data": {
            "text/plain": [
              "array([6., 7., 9., 8., 9., 7., 5.])"
            ]
          },
          "metadata": {
            "tags": []
          },
          "execution_count": 15
        }
      ]
    },
    {
      "cell_type": "markdown",
      "metadata": {
        "id": "a25ioeslmjy6"
      },
      "source": [
        "16. How to swap two columns in a 2d numpy array?"
      ]
    },
    {
      "cell_type": "code",
      "metadata": {
        "colab": {
          "base_uri": "https://localhost:8080/"
        },
        "id": "Baef6i3Pmj_u",
        "outputId": "531ca22a-88e4-4bc7-df63-e291a2d929b8"
      },
      "source": [
        "# Input\n",
        "arr = np.arange(9).reshape(3,3)\n",
        "arr\n",
        "\n",
        "# Solution\n",
        "arr[:, [1,0,2]]"
      ],
      "execution_count": null,
      "outputs": [
        {
          "output_type": "execute_result",
          "data": {
            "text/plain": [
              "array([[1, 0, 2],\n",
              "       [4, 3, 5],\n",
              "       [7, 6, 8]])"
            ]
          },
          "metadata": {
            "tags": []
          },
          "execution_count": 16
        }
      ]
    },
    {
      "cell_type": "markdown",
      "metadata": {
        "id": "B7IAzUSgmkNW"
      },
      "source": [
        "17. How to swap two rows in a 2d numpy array?\n"
      ]
    },
    {
      "cell_type": "code",
      "metadata": {
        "colab": {
          "base_uri": "https://localhost:8080/"
        },
        "id": "Ssi2mOGFmkam",
        "outputId": "4cc21a50-dc67-428b-89f7-a05907468d13"
      },
      "source": [
        "# Input\n",
        "arr = np.arange(9).reshape(3,3)\n",
        "\n",
        "# Solution\n",
        "arr[[1,0,2], :]"
      ],
      "execution_count": null,
      "outputs": [
        {
          "output_type": "execute_result",
          "data": {
            "text/plain": [
              "array([[3, 4, 5],\n",
              "       [0, 1, 2],\n",
              "       [6, 7, 8]])"
            ]
          },
          "metadata": {
            "tags": []
          },
          "execution_count": 17
        }
      ]
    },
    {
      "cell_type": "markdown",
      "metadata": {
        "id": "WEwEURizmknR"
      },
      "source": [
        "18. How to reverse the rows of a 2D array?\n"
      ]
    },
    {
      "cell_type": "code",
      "metadata": {
        "colab": {
          "base_uri": "https://localhost:8080/"
        },
        "id": "s8mMfC86mk0d",
        "outputId": "333600e4-87ac-4314-af60-ce0454d371fa"
      },
      "source": [
        "# Input\n",
        "arr = np.arange(9).reshape(3,3)\n",
        "\n",
        "# Solution\n",
        "arr[::-1]"
      ],
      "execution_count": null,
      "outputs": [
        {
          "output_type": "execute_result",
          "data": {
            "text/plain": [
              "array([[6, 7, 8],\n",
              "       [3, 4, 5],\n",
              "       [0, 1, 2]])"
            ]
          },
          "metadata": {
            "tags": []
          },
          "execution_count": 18
        }
      ]
    },
    {
      "cell_type": "markdown",
      "metadata": {
        "id": "akmI25dKmlA9"
      },
      "source": [
        "19. How to reverse the columns of a 2D array?\n"
      ]
    },
    {
      "cell_type": "code",
      "metadata": {
        "colab": {
          "base_uri": "https://localhost:8080/"
        },
        "id": "OwiiPSiHmlNq",
        "outputId": "b94ca134-a85f-4269-d4f0-b4ae1e4f273a"
      },
      "source": [
        "# Input\n",
        "arr = np.arange(9).reshape(3,3)\n",
        "\n",
        "# Solution\n",
        "arr[:, ::-1]"
      ],
      "execution_count": null,
      "outputs": [
        {
          "output_type": "execute_result",
          "data": {
            "text/plain": [
              "array([[2, 1, 0],\n",
              "       [5, 4, 3],\n",
              "       [8, 7, 6]])"
            ]
          },
          "metadata": {
            "tags": []
          },
          "execution_count": 19
        }
      ]
    },
    {
      "cell_type": "markdown",
      "metadata": {
        "id": "4CX7sUfTmlZV"
      },
      "source": [
        "20. How to create a 2D array containing random floats between 5 and 10?"
      ]
    },
    {
      "cell_type": "code",
      "metadata": {
        "colab": {
          "base_uri": "https://localhost:8080/"
        },
        "id": "P_fITkdpmllu",
        "outputId": "d260dfae-8ae9-40b2-83ff-b7ab84d54e51"
      },
      "source": [
        "# Input\n",
        "arr = np.arange(9).reshape(3,3)\n",
        "\n",
        "# Solution Method 1:\n",
        "rand_arr = np.random.randint(low=5, high=10, size=(5,3)) + np.random.random((5,3))\n",
        "# print(rand_arr)\n",
        "\n",
        "\n",
        "\n",
        "# Solution Method 2:\n",
        "rand_arr = np.random.uniform(5,10, size=(5,3))\n",
        "print(rand_arr)"
      ],
      "execution_count": null,
      "outputs": [
        {
          "output_type": "stream",
          "text": [
            "[[7.93650463 8.60869682 8.2997803 ]\n",
            " [9.59006382 7.50256525 8.75246302]\n",
            " [8.39393242 5.75373064 7.42034248]\n",
            " [5.244992   6.34119015 8.19465337]\n",
            " [7.00858207 8.85353556 8.21393622]]\n"
          ],
          "name": "stdout"
        }
      ]
    },
    {
      "cell_type": "markdown",
      "metadata": {
        "id": "tNDx8AczmlxL"
      },
      "source": [
        "21. How to print only 3 decimal places in python numpy array?"
      ]
    },
    {
      "cell_type": "code",
      "metadata": {
        "colab": {
          "base_uri": "https://localhost:8080/"
        },
        "id": "7b1iKYNGml8u",
        "outputId": "bbf4713c-b415-4a1c-bf0a-73dc1e4775ee"
      },
      "source": [
        "# Input\n",
        "rand_arr = np.random.random((5,3))\n",
        "\n",
        "# Create the random array\n",
        "rand_arr = np.random.random([5,3])\n",
        "\n",
        "# Limit to 3 decimal places\n",
        "np.set_printoptions(precision=3)\n",
        "rand_arr[:4]"
      ],
      "execution_count": null,
      "outputs": [
        {
          "output_type": "execute_result",
          "data": {
            "text/plain": [
              "array([[0.327, 0.255, 0.848],\n",
              "       [0.557, 0.181, 0.482],\n",
              "       [0.621, 0.554, 0.269],\n",
              "       [0.674, 0.417, 0.862]])"
            ]
          },
          "metadata": {
            "tags": []
          },
          "execution_count": 21
        }
      ]
    },
    {
      "cell_type": "markdown",
      "metadata": {
        "id": "looj96vEmma0"
      },
      "source": [
        "22. How to pretty print a numpy array by suppressing the scientific notation (like 1e10)?\n"
      ]
    },
    {
      "cell_type": "code",
      "metadata": {
        "colab": {
          "base_uri": "https://localhost:8080/"
        },
        "id": "UI3tf6QqmmqV",
        "outputId": "79dc12e9-f222-49a9-c658-eea3a3b92041"
      },
      "source": [
        "# Reset printoptions to default\n",
        "np.set_printoptions(suppress=False)\n",
        "\n",
        "# Create the random array\n",
        "np.random.seed(100)\n",
        "rand_arr = np.random.random([3,3])/1e3\n",
        "rand_arr\n",
        "np.set_printoptions(suppress=True, precision=6)  # precision is optional\n",
        "rand_arr"
      ],
      "execution_count": null,
      "outputs": [
        {
          "output_type": "execute_result",
          "data": {
            "text/plain": [
              "array([[0.000543, 0.000278, 0.000425],\n",
              "       [0.000845, 0.000005, 0.000122],\n",
              "       [0.000671, 0.000826, 0.000137]])"
            ]
          },
          "metadata": {
            "tags": []
          },
          "execution_count": 22
        }
      ]
    },
    {
      "cell_type": "markdown",
      "metadata": {
        "id": "YzsiU1Yzmm57"
      },
      "source": [
        "23. How to limit the number of items printed in output of numpy array?"
      ]
    },
    {
      "cell_type": "code",
      "metadata": {
        "colab": {
          "base_uri": "https://localhost:8080/"
        },
        "id": "NykXykIBmnIl",
        "outputId": "a0315276-9883-4acc-bc28-8ead2a87efd3"
      },
      "source": [
        "np.set_printoptions(threshold=6)\n",
        "a = np.arange(15)\n",
        "a"
      ],
      "execution_count": null,
      "outputs": [
        {
          "output_type": "execute_result",
          "data": {
            "text/plain": [
              "array([ 0,  1,  2, ..., 12, 13, 14])"
            ]
          },
          "metadata": {
            "tags": []
          },
          "execution_count": 23
        }
      ]
    },
    {
      "cell_type": "markdown",
      "metadata": {
        "id": "VgWhExnimnjK"
      },
      "source": [
        "24. How to extract a particular column from 1D array of tuples?"
      ]
    },
    {
      "cell_type": "code",
      "metadata": {
        "colab": {
          "base_uri": "https://localhost:8080/"
        },
        "id": "c1VPCiHTmnwc",
        "outputId": "d70e0afb-8422-439d-a8de-41c71d42fe6e"
      },
      "source": [
        "# Input:\n",
        "url = 'https://archive.ics.uci.edu/ml/machine-learning-databases/iris/iris.data'\n",
        "iris_1d = np.genfromtxt(url, delimiter=',', dtype=None)\n",
        "print(iris_1d.shape)\n",
        "\n",
        "# Solution:\n",
        "species = np.array([row[4] for row in iris_1d])\n",
        "species[:5]"
      ],
      "execution_count": null,
      "outputs": [
        {
          "output_type": "stream",
          "text": [
            "(150,)\n"
          ],
          "name": "stdout"
        },
        {
          "output_type": "stream",
          "text": [
            "/usr/local/lib/python3.6/dist-packages/ipykernel_launcher.py:3: VisibleDeprecationWarning: Reading unicode strings without specifying the encoding argument is deprecated. Set the encoding, use None for the system default.\n",
            "  This is separate from the ipykernel package so we can avoid doing imports until\n"
          ],
          "name": "stderr"
        },
        {
          "output_type": "execute_result",
          "data": {
            "text/plain": [
              "array([b'Iris-setosa', b'Iris-setosa', b'Iris-setosa', b'Iris-setosa',\n",
              "       b'Iris-setosa'], dtype='|S18')"
            ]
          },
          "metadata": {
            "tags": []
          },
          "execution_count": 27
        }
      ]
    },
    {
      "cell_type": "markdown",
      "metadata": {
        "id": "Skwmr374mn9U"
      },
      "source": [
        "25. How to import a dataset with numbers and texts keeping the text intact in python numpy?\n"
      ]
    },
    {
      "cell_type": "code",
      "metadata": {
        "colab": {
          "base_uri": "https://localhost:8080/"
        },
        "id": "P2X6kOO7moJo",
        "outputId": "a4673e09-1af1-4dd8-d18d-73e9486f87bf"
      },
      "source": [
        "url = 'https://archive.ics.uci.edu/ml/machine-learning-databases/iris/iris.data'\n",
        "iris = np.genfromtxt(url, delimiter=',', dtype='object')\n",
        "names = ('sepallength', 'sepalwidth', 'petallength', 'petalwidth', 'species')\n",
        "\n",
        "# Print the first 3 rows\n",
        "iris[:3]"
      ],
      "execution_count": null,
      "outputs": [
        {
          "output_type": "execute_result",
          "data": {
            "text/plain": [
              "array([[b'5.1', b'3.5', b'1.4', b'0.2', b'Iris-setosa'],\n",
              "       [b'4.9', b'3.0', b'1.4', b'0.2', b'Iris-setosa'],\n",
              "       [b'4.7', b'3.2', b'1.3', b'0.2', b'Iris-setosa']], dtype=object)"
            ]
          },
          "metadata": {
            "tags": []
          },
          "execution_count": 26
        }
      ]
    }
  ]
}